{
  "nbformat": 4,
  "nbformat_minor": 0,
  "metadata": {
    "colab": {
      "name": "Cartoonized_images.ipynb",
      "provenance": [],
      "include_colab_link": true
    },
    "kernelspec": {
      "name": "python3",
      "display_name": "Python 3"
    },
    "language_info": {
      "name": "python"
    }
  },
  "cells": [
    {
      "cell_type": "markdown",
      "metadata": {
        "id": "view-in-github",
        "colab_type": "text"
      },
      "source": [
        "<a href=\"https://colab.research.google.com/github/AdrianSosaUV/CartoonPic/blob/main/main.ipynb\" target=\"_parent\"><img src=\"https://colab.research.google.com/assets/colab-badge.svg\" alt=\"Open In Colab\"/></a>"
      ]
    },
    {
      "cell_type": "markdown",
      "metadata": {
        "id": "48bOGDRcBpLK"
      },
      "source": [
        "# CartoonPic\n",
        "\n",
        "This Notebook follow and use the code make by Xinrui Wang."
      ]
    },
    {
      "cell_type": "markdown",
      "metadata": {
        "id": "3_GRIvGTBpLP"
      },
      "source": [
        "## Clone the Repo\n",
        "\n",
        "The first step is to clone the repository with the following code:"
      ]
    },
    {
      "cell_type": "code",
      "metadata": {
        "id": "ZQOCmjkhBpLQ"
      },
      "source": [
        "!git clone https://github.com/AdrianSosaUV/CartoonPic.git"
      ],
      "execution_count": null,
      "outputs": []
    },
    {
      "cell_type": "markdown",
      "metadata": {
        "id": "P_--b3ycBpLR"
      },
      "source": [
        "## Prepare the environment\n",
        "\n",
        "For this program we will use tensorflow in its version 1.x as follows:"
      ]
    },
    {
      "cell_type": "code",
      "metadata": {
        "id": "5GEV9xyxBpLS"
      },
      "source": [
        "%tensorflow_version 1.x"
      ],
      "execution_count": null,
      "outputs": []
    },
    {
      "cell_type": "markdown",
      "metadata": {
        "id": "-RL0yV23BpLT"
      },
      "source": [
        "You can check it is correct with the following cell:"
      ]
    },
    {
      "cell_type": "code",
      "metadata": {
        "id": "PndsXmKlBpLU"
      },
      "source": [
        "import tensorflow as tf\n",
        "print(tf.__version__)"
      ],
      "execution_count": null,
      "outputs": []
    },
    {
      "cell_type": "markdown",
      "metadata": {
        "id": "P1IUAnJmBpLU"
      },
      "source": [
        "the next Step its upload your pictures to cartonize to the $test\\_ images$ folder"
      ]
    },
    {
      "cell_type": "markdown",
      "metadata": {
        "id": "PoSmv-OXBpLW"
      },
      "source": [
        "# Load the Program\n",
        "\n",
        "The next step its load the python script to the environment, use the following code:"
      ]
    },
    {
      "cell_type": "code",
      "metadata": {
        "id": "qCv-Bd82BpLX"
      },
      "source": [
        "%cd /content/CartoonPic/\n",
        "import os \n",
        "from cartoonize import *\n",
        "from IPython.display import Image"
      ],
      "execution_count": null,
      "outputs": []
    },
    {
      "cell_type": "markdown",
      "metadata": {
        "id": "oYiWlYIxBpLY"
      },
      "source": [
        "## Cartonize\n",
        "\n",
        "Using the following cell, you will cartonize all the photos in the test_image folder (you can see some examples inside), and the results will be in the cartoonized_images folder. Do not forget to download your photos because all the files in the environment will be deleted when your collab session ends."
      ]
    },
    {
      "cell_type": "code",
      "metadata": {
        "id": "YMcR8_ghBSRJ"
      },
      "source": [
        "model_path = '/content/CartoonPic/saved_models'\n",
        "load_folder = '/content/CartoonPic/test_images'\n",
        "save_folder = '/content/CartoonPic/cartoonized_images'\n",
        "if not os.path.exists(save_folder):\n",
        "  os.mkdir(save_folder)\n",
        "cartoonize(load_folder, save_folder, model_path)"
      ],
      "execution_count": null,
      "outputs": []
    }
  ]
}