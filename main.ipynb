{
  "nbformat": 4,
  "nbformat_minor": 2,
  "metadata": {
    "colab": {
      "name": "Cartoonized_images.ipynb",
      "provenance": [],
      "include_colab_link": true
    },
    "kernelspec": {
      "name": "python3",
      "display_name": "Python 3"
    },
    "language_info": {
      "name": "python"
    }
  },
  "cells": [
    {
      "cell_type": "markdown",
      "source": [
        "<a href=\"https://colab.research.google.com/github/AdrianSosaUV/CartoonPic/blob/main/main.ipynb\" target=\"_parent\"><img src=\"https://colab.research.google.com/assets/colab-badge.svg\" alt=\"Open In Colab\"/></a>"
      ],
      "metadata": {
        "id": "view-in-github",
        "colab_type": "text"
      }
    },
    {
      "cell_type": "markdown",
      "source": [
        "# CartoonPic\n",
        "\n",
        "This Notebook follow and use the code make by Xinrui Wang."
      ],
      "metadata": {}
    },
    {
      "cell_type": "markdown",
      "source": [
        "## Clone the Repo\n",
        "\n",
        "The first step is to clone the repository with the following code:"
      ],
      "metadata": {}
    },
    {
      "cell_type": "code",
      "execution_count": null,
      "source": [
        "!git clone https://github.com/AdrianSosaUV/CartoonPic.git"
      ],
      "outputs": [],
      "metadata": {}
    },
    {
      "cell_type": "markdown",
      "source": [
        "## Prepare the environment\n",
        "\n",
        "For this program we will use tensorflow in its version 1.x as follows:"
      ],
      "metadata": {}
    },
    {
      "cell_type": "code",
      "execution_count": null,
      "source": [
        "%tensorflow_version 1.x"
      ],
      "outputs": [],
      "metadata": {}
    },
    {
      "cell_type": "markdown",
      "source": [
        "You can check it is correct with the following cell:"
      ],
      "metadata": {}
    },
    {
      "cell_type": "code",
      "execution_count": null,
      "source": [
        "import tensorflow as tf\r\n",
        "print(tf.__version__)"
      ],
      "outputs": [],
      "metadata": {}
    },
    {
      "cell_type": "markdown",
      "source": [
        "the next Step its upload your pictures to cartonize to the $test\\_ images$ folder"
      ],
      "metadata": {}
    },
    {
      "cell_type": "markdown",
      "source": [
        "# Load the Program\n",
        "\n",
        "The next step its load the python script to the environment, use the following code:"
      ],
      "metadata": {}
    },
    {
      "cell_type": "code",
      "execution_count": null,
      "source": [
        "%cd /content/CartoonPic/\r\n",
        "import os \r\n",
        "from cartoonize import *\r\n",
        "from IPython.display import Image"
      ],
      "outputs": [],
      "metadata": {}
    },
    {
      "cell_type": "markdown",
      "source": [
        "## Cartonize\n",
        "\n",
        "Using the following cell, you will cartonize all the photos in the test_image folder (you can see some examples inside), and the results will be in the cartoonized_images folder. Do not forget to download your photos because all the files in the environment will be deleted when your collab session ends."
      ],
      "metadata": {}
    },
    {
      "cell_type": "code",
      "execution_count": null,
      "source": [
        "model_path = '/content/CartoonPic/saved_models'\r\n",
        "load_folder = '/content/CartoonPic/test_images'\r\n",
        "save_folder = '/content/CartoonPic/cartoonized_images'\r\n",
        "if not os.path.exists(save_folder):\r\n",
        "  os.mkdir(save_folder)\r\n",
        "cartoonize(load_folder, save_folder, model_path)"
      ],
      "outputs": [],
      "metadata": {}
    }
  ]
}