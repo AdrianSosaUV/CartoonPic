{
  "nbformat": 4,
  "nbformat_minor": 0,
  "metadata": {
    "colab": {
      "name": "Cartoonized_images.ipynb",
      "provenance": [],
      "mount_file_id": "1Crnkf3QYmhYHEzv0SJ4ZHl_1Nk9yek4E",
      "authorship_tag": "ABX9TyPvzoaV7bbT5u199rC2Xhxi",
      "include_colab_link": true
    },
    "kernelspec": {
      "name": "python3",
      "display_name": "Python 3"
    },
    "language_info": {
      "name": "python"
    }
  },
  "cells": [
    {
      "cell_type": "markdown",
      "metadata": {
        "id": "view-in-github",
        "colab_type": "text"
      },
      "source": [
        "<a href=\"https://colab.research.google.com/github/AdrianSosaUV/CartoonPic/blob/main/main.ipynb\" target=\"_parent\"><img src=\"https://colab.research.google.com/assets/colab-badge.svg\" alt=\"Open In Colab\"/></a>"
      ]
    },
    {
      "cell_type": "code",
      "metadata": {
        "id": "syYnDLsf5a1k"
      },
      "source": [
        "import os\n",
        "import network\n",
        "import cv2 as cv\n",
        "import numpy as np \n",
        "import tensorflow as tf\n",
        "from tqdm import tqdm\n",
        "from IPython.display import Image"
      ],
      "execution_count": null,
      "outputs": []
    },
    {
      "cell_type": "code",
      "metadata": {
        "id": "Mi6g6hPvBrxi"
      },
      "source": [
        "def tf_box_filter(x, r):\n",
        "    k_size = int(2*r+1)\n",
        "    ch = x.get_shape().as_list()[-1]\n",
        "    weight = 1/(k_size**2)\n",
        "    box_kernel = weight*np.ones((k_size, k_size, ch, 1))\n",
        "    box_kernel = np.array(box_kernel).astype(np.float32)\n",
        "    output = tf.nn.depthwise_conv2d(x, box_kernel, [1, 1, 1, 1], 'SAME')\n",
        "    return output"
      ],
      "execution_count": null,
      "outputs": []
    },
    {
      "cell_type": "code",
      "metadata": {
        "id": "gAmualN7BxPx"
      },
      "source": [
        "def guided_filter(x, y, r, eps=1e-2):\n",
        "    \n",
        "    x_shape = tf.shape(x)\n",
        "    #y_shape = tf.shape(y)\n",
        "\n",
        "    N = tf_box_filter(tf.ones((1, x_shape[1], x_shape[2], 1), dtype=x.dtype), r)\n",
        "\n",
        "    mean_x = tf_box_filter(x, r) / N\n",
        "    mean_y = tf_box_filter(y, r) / N\n",
        "    cov_xy = tf_box_filter(x * y, r) / N - mean_x * mean_y\n",
        "    var_x  = tf_box_filter(x * x, r) / N - mean_x * mean_x\n",
        "\n",
        "    A = cov_xy / (var_x + eps)\n",
        "    b = mean_y - A * mean_x\n",
        "\n",
        "    mean_A = tf_box_filter(A, r) / N\n",
        "    mean_b = tf_box_filter(b, r) / N\n",
        "\n",
        "    output = mean_A * x + mean_b\n",
        "\n",
        "    return output"
      ],
      "execution_count": null,
      "outputs": []
    },
    {
      "cell_type": "code",
      "metadata": {
        "id": "ovMJUr5_8u9i"
      },
      "source": [
        "def resize_crop(image):\n",
        "    h, w, c = np.shape(image)\n",
        "    if min(h, w) > 720:\n",
        "        if h > w:\n",
        "            h, w = int(720*h/w), 720\n",
        "        else:\n",
        "            h, w = 720, int(720*w/h)\n",
        "    image = cv2.resize(image, (w, h),\n",
        "                       interpolation=cv2.INTER_AREA)\n",
        "    h, w = (h//8)*8, (w//8)*8\n",
        "    image = image[:h, :w, :]\n",
        "    return image"
      ],
      "execution_count": null,
      "outputs": []
    },
    {
      "cell_type": "code",
      "metadata": {
        "id": "UtLkNOchB0q4"
      },
      "source": [
        "def fast_guided_filter(lr_x, lr_y, hr_x, r=1, eps=1e-8):\n",
        "    \n",
        "    #assert lr_x.shape.ndims == 4 and lr_y.shape.ndims == 4 and hr_x.shape.ndims == 4\n",
        "   \n",
        "    lr_x_shape = tf.shape(lr_x)\n",
        "    #lr_y_shape = tf.shape(lr_y)\n",
        "    hr_x_shape = tf.shape(hr_x)\n",
        "    \n",
        "    N = tf_box_filter(tf.ones((1, lr_x_shape[1], lr_x_shape[2], 1), dtype=lr_x.dtype), r)\n",
        "\n",
        "    mean_x = tf_box_filter(lr_x, r) / N\n",
        "    mean_y = tf_box_filter(lr_y, r) / N\n",
        "    cov_xy = tf_box_filter(lr_x * lr_y, r) / N - mean_x * mean_y\n",
        "    var_x  = tf_box_filter(lr_x * lr_x, r) / N - mean_x * mean_x\n",
        "\n",
        "    A = cov_xy / (var_x + eps)\n",
        "    b = mean_y - A * mean_x\n",
        "\n",
        "    mean_A = tf.image.resize_images(A, hr_x_shape[1: 3])\n",
        "    mean_b = tf.image.resize_images(b, hr_x_shape[1: 3])\n",
        "\n",
        "    output = mean_A * hr_x + mean_b\n",
        "    \n",
        "    return output"
      ],
      "execution_count": null,
      "outputs": []
    },
    {
      "cell_type": "code",
      "metadata": {
        "id": "7KOgqpigBPri"
      },
      "source": [
        "def cartoonize(load_folder, save_folder, model_path):\n",
        "    input_photo = tf.placeholder(tf.float32, [1, None, None, 3])\n",
        "    network_out = network.unet_generator(input_photo)\n",
        "    final_out = guided_filter.guided_filter(input_photo, network_out, r=1, eps=5e-3)\n",
        "\n",
        "    all_vars = tf.trainable_variables()\n",
        "    gene_vars = [var for var in all_vars if 'generator' in var.name]\n",
        "    saver = tf.train.Saver(var_list=gene_vars)\n",
        "    \n",
        "    config = tf.ConfigProto()\n",
        "    config.gpu_options.allow_growth = True\n",
        "    sess = tf.Session(config=config)\n",
        "\n",
        "    sess.run(tf.global_variables_initializer())\n",
        "    saver.restore(sess, tf.train.latest_checkpoint(model_path))\n",
        "    name_list = os.listdir(load_folder)\n",
        "    for name in tqdm(name_list):\n",
        "        try:\n",
        "            load_path = os.path.join(load_folder, name)\n",
        "            save_path = os.path.join(save_folder, name)\n",
        "            image = cv2.imread(load_path)\n",
        "            image = resize_crop(image)\n",
        "            batch_image = image.astype(np.float32)/127.5 - 1\n",
        "            batch_image = np.expand_dims(batch_image, axis=0)\n",
        "            output = sess.run(final_out, feed_dict={input_photo: batch_image})\n",
        "            output = (np.squeeze(output)+1)*127.5\n",
        "            output = np.clip(output, 0, 255).astype(np.uint8)\n",
        "            cv2.imwrite(save_path, output)\n",
        "        except:\n",
        "            print('cartoonize {} failed'.format(load_path))"
      ],
      "execution_count": null,
      "outputs": []
    },
    {
      "cell_type": "code",
      "metadata": {
        "id": "r33_hdsnB3hS"
      },
      "source": [
        ""
      ],
      "execution_count": null,
      "outputs": []
    },
    {
      "cell_type": "code",
      "metadata": {
        "colab": {
          "base_uri": "https://localhost:8080/",
          "height": 316
        },
        "id": "YMcR8_ghBSRJ",
        "outputId": "5e21914b-8928-44f1-9a99-51fa54fddfa6"
      },
      "source": [
        "model_path = '/content/drive/MyDrive/cartoon/saved_models'\n",
        "load_folder = '/content/drive/MyDrive/cartoon/test_images'\n",
        "save_folder = 'cartoonized_images'\n",
        "if not os.path.exists(save_folder):\n",
        "  os.mkdir(save_folder)\n",
        "cartoonize(load_folder, save_folder, model_path)"
      ],
      "execution_count": null,
      "outputs": [
        {
          "output_type": "error",
          "ename": "AttributeError",
          "evalue": "ignored",
          "traceback": [
            "\u001b[0;31m---------------------------------------------------------------------------\u001b[0m",
            "\u001b[0;31mAttributeError\u001b[0m                            Traceback (most recent call last)",
            "\u001b[0;32m<ipython-input-7-78f64347bba2>\u001b[0m in \u001b[0;36m<module>\u001b[0;34m()\u001b[0m\n\u001b[1;32m      4\u001b[0m \u001b[0;32mif\u001b[0m \u001b[0;32mnot\u001b[0m \u001b[0mos\u001b[0m\u001b[0;34m.\u001b[0m\u001b[0mpath\u001b[0m\u001b[0;34m.\u001b[0m\u001b[0mexists\u001b[0m\u001b[0;34m(\u001b[0m\u001b[0msave_folder\u001b[0m\u001b[0;34m)\u001b[0m\u001b[0;34m:\u001b[0m\u001b[0;34m\u001b[0m\u001b[0;34m\u001b[0m\u001b[0m\n\u001b[1;32m      5\u001b[0m   \u001b[0mos\u001b[0m\u001b[0;34m.\u001b[0m\u001b[0mmkdir\u001b[0m\u001b[0;34m(\u001b[0m\u001b[0msave_folder\u001b[0m\u001b[0;34m)\u001b[0m\u001b[0;34m\u001b[0m\u001b[0;34m\u001b[0m\u001b[0m\n\u001b[0;32m----> 6\u001b[0;31m \u001b[0mcartoonize\u001b[0m\u001b[0;34m(\u001b[0m\u001b[0mload_folder\u001b[0m\u001b[0;34m,\u001b[0m \u001b[0msave_folder\u001b[0m\u001b[0;34m,\u001b[0m \u001b[0mmodel_path\u001b[0m\u001b[0;34m)\u001b[0m\u001b[0;34m\u001b[0m\u001b[0;34m\u001b[0m\u001b[0m\n\u001b[0m",
            "\u001b[0;32m<ipython-input-6-997b9f198777>\u001b[0m in \u001b[0;36mcartoonize\u001b[0;34m(load_folder, save_folder, model_path)\u001b[0m\n\u001b[1;32m      1\u001b[0m \u001b[0;32mdef\u001b[0m \u001b[0mcartoonize\u001b[0m\u001b[0;34m(\u001b[0m\u001b[0mload_folder\u001b[0m\u001b[0;34m,\u001b[0m \u001b[0msave_folder\u001b[0m\u001b[0;34m,\u001b[0m \u001b[0mmodel_path\u001b[0m\u001b[0;34m)\u001b[0m\u001b[0;34m:\u001b[0m\u001b[0;34m\u001b[0m\u001b[0;34m\u001b[0m\u001b[0m\n\u001b[0;32m----> 2\u001b[0;31m     \u001b[0minput_photo\u001b[0m \u001b[0;34m=\u001b[0m \u001b[0mtf\u001b[0m\u001b[0;34m.\u001b[0m\u001b[0mplaceholder\u001b[0m\u001b[0;34m(\u001b[0m\u001b[0mtf\u001b[0m\u001b[0;34m.\u001b[0m\u001b[0mfloat32\u001b[0m\u001b[0;34m,\u001b[0m \u001b[0;34m[\u001b[0m\u001b[0;36m1\u001b[0m\u001b[0;34m,\u001b[0m \u001b[0;32mNone\u001b[0m\u001b[0;34m,\u001b[0m \u001b[0;32mNone\u001b[0m\u001b[0;34m,\u001b[0m \u001b[0;36m3\u001b[0m\u001b[0;34m]\u001b[0m\u001b[0;34m)\u001b[0m\u001b[0;34m\u001b[0m\u001b[0;34m\u001b[0m\u001b[0m\n\u001b[0m\u001b[1;32m      3\u001b[0m     \u001b[0mnetwork_out\u001b[0m \u001b[0;34m=\u001b[0m \u001b[0mnetwork\u001b[0m\u001b[0;34m.\u001b[0m\u001b[0munet_generator\u001b[0m\u001b[0;34m(\u001b[0m\u001b[0minput_photo\u001b[0m\u001b[0;34m)\u001b[0m\u001b[0;34m\u001b[0m\u001b[0;34m\u001b[0m\u001b[0m\n\u001b[1;32m      4\u001b[0m     \u001b[0mfinal_out\u001b[0m \u001b[0;34m=\u001b[0m \u001b[0mguided_filter\u001b[0m\u001b[0;34m.\u001b[0m\u001b[0mguided_filter\u001b[0m\u001b[0;34m(\u001b[0m\u001b[0minput_photo\u001b[0m\u001b[0;34m,\u001b[0m \u001b[0mnetwork_out\u001b[0m\u001b[0;34m,\u001b[0m \u001b[0mr\u001b[0m\u001b[0;34m=\u001b[0m\u001b[0;36m1\u001b[0m\u001b[0;34m,\u001b[0m \u001b[0meps\u001b[0m\u001b[0;34m=\u001b[0m\u001b[0;36m5e-3\u001b[0m\u001b[0;34m)\u001b[0m\u001b[0;34m\u001b[0m\u001b[0;34m\u001b[0m\u001b[0m\n\u001b[1;32m      5\u001b[0m \u001b[0;34m\u001b[0m\u001b[0m\n",
            "\u001b[0;31mAttributeError\u001b[0m: module 'tensorflow' has no attribute 'placeholder'"
          ]
        }
      ]
    },
    {
      "cell_type": "code",
      "metadata": {
        "id": "-WojjjL0CFBb"
      },
      "source": [
        ""
      ],
      "execution_count": null,
      "outputs": []
    }
  ]
}